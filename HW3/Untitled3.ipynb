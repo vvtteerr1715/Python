{
 "cells": [
  {
   "cell_type": "code",
   "execution_count": 17,
   "metadata": {},
   "outputs": [
    {
     "name": "stdout",
     "output_type": "stream",
     "text": [
      "6\n",
      "7\n",
      "+-+-+-\n",
      "+-+-+-\n",
      "+-+-+-\n",
      "+-+-+-\n",
      "+-+-+-\n",
      "+-+-+-\n",
      "+-+-+-\n"
     ]
    }
   ],
   "source": [
    "x = int(input())\n",
    "y = int(input())\n",
    "a =0\n",
    "for i in range(0,y):\n",
    "    for j in range(0,x):\n",
    "        if a == 0:\n",
    "            print(\"+\",end =\"\")\n",
    "            a = 1\n",
    "        else:\n",
    "            print(\"-\",end =\"\")\n",
    "            a = 0\n",
    "    print(\"\")"
   ]
  },
  {
   "cell_type": "code",
   "execution_count": 25,
   "metadata": {},
   "outputs": [
    {
     "name": "stdout",
     "output_type": "stream",
     "text": [
      "*******\n",
      "   *   \n",
      "   *   \n",
      "   *   \n",
      "   *   \n",
      "   *   \n",
      "   *   \n"
     ]
    }
   ],
   "source": [
    "for i in range(0,7):\n",
    "    for j in range(0,7):\n",
    "        if i == 0:\n",
    "            print(\"*\",end=\"\")\n",
    "        elif j == 3:\n",
    "            print(\"*\",end=\"\")\n",
    "        else:\n",
    "            print(\" \",end=\"\")\n",
    "    else:\n",
    "        print(\"\")"
   ]
  },
  {
   "cell_type": "code",
   "execution_count": 34,
   "metadata": {},
   "outputs": [
    {
     "name": "stdout",
     "output_type": "stream",
     "text": [
      "*******\n",
      "     * \n",
      "    *  \n",
      "   *   \n",
      "  *    \n",
      " *     \n",
      "*******\n"
     ]
    }
   ],
   "source": [
    "for i in range(0,7):\n",
    "    for j in range(0,7):\n",
    "        if i == 0 or i==6:\n",
    "            print(\"*\",end=\"\")\n",
    "        elif i+j == 6:\n",
    "            print(\"*\",end=\"\")\n",
    "        else:\n",
    "            print(\" \",end=\"\")\n",
    "    else:\n",
    "        print(\"\")"
   ]
  },
  {
   "cell_type": "code",
   "execution_count": 35,
   "metadata": {},
   "outputs": [
    {
     "name": "stdout",
     "output_type": "stream",
     "text": [
      "*******\n",
      "*      \n",
      "*      \n",
      "*****  \n",
      "*      \n",
      "*      \n",
      "*******\n"
     ]
    }
   ],
   "source": [
    "for i in range(0,7):\n",
    "    for j in range(0,7):\n",
    "        if i == 0 or i==6:\n",
    "            print(\"*\",end=\"\")\n",
    "        elif j ==0:\n",
    "            print(\"*\",end=\"\")\n",
    "        elif i==3 and j<5:\n",
    "            print(\"*\",end=\"\")\n",
    "        else:\n",
    "            print(\" \",end=\"\")\n",
    "    else:\n",
    "        print(\"\")"
   ]
  },
  {
   "cell_type": "code",
   "execution_count": 48,
   "metadata": {},
   "outputs": [
    {
     "name": "stdout",
     "output_type": "stream",
     "text": [
      " *** \n",
      "*   *\n",
      "*   *\n",
      "*****\n",
      "*   *\n",
      "*   *\n",
      "*   *\n"
     ]
    }
   ],
   "source": [
    "for i in range(0,7):\n",
    "    for j in range(0,5):\n",
    "        if i == 0 and j in range(1,4):\n",
    "            print(\"*\",end=\"\")\n",
    "        elif i != 0 and j ==0:\n",
    "            print(\"*\",end=\"\")\n",
    "        elif i != 0 and j ==4:\n",
    "            print(\"*\",end=\"\")\n",
    "        elif i==3 :\n",
    "            print(\"*\",end=\"\")\n",
    "        else:\n",
    "            print(\" \",end=\"\")\n",
    "    else:\n",
    "        print(\"\")"
   ]
  },
  {
   "cell_type": "code",
   "execution_count": 72,
   "metadata": {},
   "outputs": [
    {
     "name": "stdout",
     "output_type": "stream",
     "text": [
      "        *         \n",
      "      * * *       \n",
      "    * * * * *     \n",
      "  * * * * * * *   \n",
      "* * * * * * * * * \n",
      "  * * * * * * *   \n",
      "    * * * * *     \n",
      "      * * *       \n",
      "        *         \n"
     ]
    }
   ],
   "source": [
    "for i in range(0,4):\n",
    "    for j in range(0,9):\n",
    "        if i == 0 and j == 4:\n",
    "            print(\"* \",end=\"\")\n",
    "        elif i == 1 and j in range(3,6):\n",
    "            print(\"* \",end=\"\")\n",
    "        elif i == 2 and j in range(2,7):\n",
    "            print(\"* \",end=\"\")\n",
    "        elif i== 3 and j in range(1,8):\n",
    "            print(\"* \",end=\"\")\n",
    "        else:\n",
    "            print(\"  \",end=\"\")\n",
    "    else:\n",
    "        print(\"\")\n",
    "for i in range(5,0,-1):\n",
    "    for j in range(0,9):\n",
    "        if i == 0 and j == 3:\n",
    "            print(\"* \",end=\"\")\n",
    "        elif i == 1 and j in range(4,5):\n",
    "            print(\"* \",end=\"\")\n",
    "        elif i == 2 and j in range(3,6):\n",
    "            print(\"* \",end=\"\")\n",
    "        elif i == 3 and j in range(2,7):\n",
    "            print(\"* \",end=\"\")\n",
    "        elif i == 4 and j in range(1,8):\n",
    "            print(\"* \",end=\"\")\n",
    "        elif i== 5:\n",
    "            print(\"* \",end=\"\")\n",
    "        else:\n",
    "            print(\"  \",end=\"\")\n",
    "    else:\n",
    "        print(\"\")"
   ]
  },
  {
   "cell_type": "code",
   "execution_count": 78,
   "metadata": {},
   "outputs": [
    {
     "name": "stdout",
     "output_type": "stream",
     "text": [
      "* * * * * * \n",
      "*         * \n",
      "*         * \n",
      "*         * \n",
      "*         * \n",
      "* * * * * * \n"
     ]
    }
   ],
   "source": [
    "for i in range(0,6):\n",
    "    for j in range(0,6):\n",
    "        if i == 0:\n",
    "            print(\"* \",end=\"\")\n",
    "        elif  j == 0:\n",
    "            print(\"* \",end=\"\")\n",
    "        elif  j == 5:\n",
    "            print(\"* \",end=\"\")\n",
    "        elif i== 5:\n",
    "            print(\"* \",end=\"\")\n",
    "        else:\n",
    "            print(\"  \",end=\"\")\n",
    "    else:\n",
    "        print(\"\")"
   ]
  },
  {
   "cell_type": "code",
   "execution_count": 2,
   "metadata": {},
   "outputs": [
    {
     "name": "stdout",
     "output_type": "stream",
     "text": [
      "8.06225774829855\n",
      "6.082762530298219\n",
      "5.385164807134504\n",
      "8.077747210701755\n",
      "7.280109889280518\n",
      "3.1622776601683795\n",
      "5.385164807134504\n",
      "6.8949256703752795\n"
     ]
    }
   ],
   "source": [
    "point_list = [(2, 8),(3, 5),(4, 6),(1.5, 7), (2, 6),(6, 5),(4, 6),(2.5, 1.7)]\n",
    "for i in point_list:\n",
    "    k = ((9-i[0])**2+(4-i[1])**2)**0.5\n",
    "    print(k)"
   ]
  },
  {
   "cell_type": "code",
   "execution_count": 14,
   "metadata": {},
   "outputs": [
    {
     "name": "stdout",
     "output_type": "stream",
     "text": [
      "最小值= 3.1622776601683795 ,座標點= (6, 5)\n"
     ]
    }
   ],
   "source": [
    "point_list = [(2, 8),(3, 5),(4, 6),(1.5, 7), (2, 6),(6, 5),(4, 6),(2.5, 1.7)]\n",
    "k=[]\n",
    "for i in point_list:\n",
    "    k.append(((9-i[0])**2+(4-i[1])**2)**0.5)\n",
    "    \n",
    "print(\"最小值=\",min(k),end =\" \")\n",
    "print(\",座標點=\",point_list[k.index(min(k))])"
   ]
  },
  {
   "cell_type": "code",
   "execution_count": 11,
   "metadata": {},
   "outputs": [
    {
     "data": {
      "text/plain": [
       "[10.2,\n",
       " 9.5,\n",
       " 9.4,\n",
       " 9.399999999999999,\n",
       " 10.2,\n",
       " 11.4,\n",
       " 9.700000000000001,\n",
       " 10.1,\n",
       " 8.9,\n",
       " 9.6,\n",
       " 10.8,\n",
       " 9.999999999999998,\n",
       " 9.299999999999999,\n",
       " 8.5,\n",
       " 11.2,\n",
       " 12.000000000000002,\n",
       " 11.000000000000002,\n",
       " 10.3,\n",
       " 11.5,\n",
       " 10.7,\n",
       " 10.7,\n",
       " 10.700000000000001,\n",
       " 9.399999999999999,\n",
       " 10.599999999999998,\n",
       " 10.299999999999999,\n",
       " 9.799999999999999,\n",
       " 10.4,\n",
       " 10.399999999999999,\n",
       " 10.2,\n",
       " 9.7,\n",
       " 9.7,\n",
       " 10.700000000000001,\n",
       " 10.9,\n",
       " 11.299999999999999,\n",
       " 9.7,\n",
       " 9.599999999999998,\n",
       " 10.5,\n",
       " 10.0,\n",
       " 8.9,\n",
       " 10.2,\n",
       " 10.100000000000001,\n",
       " 8.4,\n",
       " 9.1,\n",
       " 10.7,\n",
       " 11.2,\n",
       " 9.5,\n",
       " 10.699999999999998,\n",
       " 9.399999999999999,\n",
       " 10.7,\n",
       " 9.9,\n",
       " 16.299999999999997,\n",
       " 15.600000000000001,\n",
       " 16.4,\n",
       " 13.100000000000001,\n",
       " 15.4,\n",
       " 14.3,\n",
       " 15.9,\n",
       " 11.600000000000001,\n",
       " 15.4,\n",
       " 13.200000000000001,\n",
       " 11.5,\n",
       " 14.600000000000001,\n",
       " 13.2,\n",
       " 15.1,\n",
       " 13.4,\n",
       " 15.600000000000001,\n",
       " 14.6,\n",
       " 13.6,\n",
       " 14.4,\n",
       " 13.1,\n",
       " 15.700000000000003,\n",
       " 14.2,\n",
       " 15.200000000000001,\n",
       " 14.799999999999997,\n",
       " 14.900000000000002,\n",
       " 15.4,\n",
       " 15.799999999999999,\n",
       " 16.4,\n",
       " 14.9,\n",
       " 12.8,\n",
       " 12.799999999999999,\n",
       " 12.600000000000001,\n",
       " 13.6,\n",
       " 15.399999999999999,\n",
       " 14.4,\n",
       " 15.5,\n",
       " 16.0,\n",
       " 14.3,\n",
       " 14.0,\n",
       " 13.3,\n",
       " 13.7,\n",
       " 15.1,\n",
       " 13.6,\n",
       " 11.6,\n",
       " 13.8,\n",
       " 14.099999999999998,\n",
       " 14.100000000000001,\n",
       " 14.7,\n",
       " 11.7,\n",
       " 13.9,\n",
       " 18.1,\n",
       " 15.5,\n",
       " 18.1,\n",
       " 16.599999999999998,\n",
       " 17.5,\n",
       " 19.3,\n",
       " 13.6,\n",
       " 18.3,\n",
       " 16.8,\n",
       " 19.4,\n",
       " 16.799999999999997,\n",
       " 16.3,\n",
       " 17.400000000000002,\n",
       " 15.2,\n",
       " 16.099999999999998,\n",
       " 17.200000000000003,\n",
       " 16.8,\n",
       " 20.4,\n",
       " 19.500000000000004,\n",
       " 14.7,\n",
       " 18.1,\n",
       " 15.299999999999999,\n",
       " 19.2,\n",
       " 15.700000000000001,\n",
       " 17.8,\n",
       " 18.2,\n",
       " 15.600000000000001,\n",
       " 15.8,\n",
       " 16.9,\n",
       " 17.6,\n",
       " 18.199999999999996,\n",
       " 20.1,\n",
       " 17.0,\n",
       " 15.7,\n",
       " 15.7,\n",
       " 19.099999999999998,\n",
       " 17.7,\n",
       " 16.8,\n",
       " 15.600000000000001,\n",
       " 17.5,\n",
       " 17.8,\n",
       " 17.4,\n",
       " 15.5,\n",
       " 18.2,\n",
       " 18.2,\n",
       " 17.2,\n",
       " 15.700000000000001,\n",
       " 16.7,\n",
       " 17.3,\n",
       " 15.8]"
      ]
     },
     "execution_count": 11,
     "metadata": {},
     "output_type": "execute_result"
    }
   ],
   "source": [
    "from sklearn import datasets\n",
    "iris = datasets.load_iris()\n",
    "X = iris.data[:, :4]\n",
    "mylist = []\n",
    "for i in X:\n",
    "    result = i[0]+i[1]+i[2]+i[3]\n",
    "    mylist.append(result)\n",
    "mylist    "
   ]
  },
  {
   "cell_type": "code",
   "execution_count": null,
   "metadata": {},
   "outputs": [],
   "source": []
  }
 ],
 "metadata": {
  "kernelspec": {
   "display_name": "Python 3",
   "language": "python",
   "name": "python3"
  },
  "language_info": {
   "codemirror_mode": {
    "name": "ipython",
    "version": 3
   },
   "file_extension": ".py",
   "mimetype": "text/x-python",
   "name": "python",
   "nbconvert_exporter": "python",
   "pygments_lexer": "ipython3",
   "version": "3.7.1"
  }
 },
 "nbformat": 4,
 "nbformat_minor": 2
}
