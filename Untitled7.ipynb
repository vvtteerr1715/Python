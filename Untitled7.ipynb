{
 "cells": [
  {
   "cell_type": "code",
   "execution_count": 2,
   "metadata": {},
   "outputs": [
    {
     "name": "stdout",
     "output_type": "stream",
     "text": [
      "20\n",
      "輸入age = 20 時;則顯示 “can see a rated R movie!”\n"
     ]
    }
   ],
   "source": [
    "x = int(input())\n",
    "print(\"輸入age =\",x,\"時\",end=\"\")\n",
    "if x in range(0,6):\n",
    "    print(\";則顯示 “can see a rated G movie!”\")\n",
    "else:\n",
    "    if x in range(6,12):\n",
    "        print(\";則顯示 “can see a rated P movie!”\")\n",
    "    else:\n",
    "        if x in range(12,18):\n",
    "            print(\";則顯示 “can see a rated PG movie!”\")\n",
    "        else:\n",
    "            print(\";則顯示 “can see a rated R movie!”\")"
   ]
  },
  {
   "cell_type": "code",
   "execution_count": 4,
   "metadata": {},
   "outputs": [
    {
     "name": "stdout",
     "output_type": "stream",
     "text": [
      "1\n",
      "2\n",
      "3\n",
      "輸入 1 , 2 , 3；則sum= 6\n"
     ]
    }
   ],
   "source": [
    "x = int(input())\n",
    "y = int(input())\n",
    "z = int(input())\n",
    "print(\"輸入\",x,\",\",y,\",\",z,end=\"\")\n",
    "if x==y or x==z or y==z:\n",
    "    print(\"；則sum= 0\")\n",
    "else:\n",
    "    print(\"；則sum=\",x+y+z)"
   ]
  },
  {
   "cell_type": "code",
   "execution_count": 22,
   "metadata": {},
   "outputs": [
    {
     "name": "stdout",
     "output_type": "stream",
     "text": [
      "12\n",
      "5\n",
      "輸入 12 , 5；則sum= 20\n"
     ]
    }
   ],
   "source": [
    "x = int(input())\n",
    "y = int(input())\n",
    "print(\"輸入\",x,\",\",y,end=\"\")\n",
    "if x+y in range(15,20):\n",
    "    print(\"；則sum= 20\")\n",
    "else:\n",
    "    print(\"；則sum=\",x+y)"
   ]
  },
  {
   "cell_type": "code",
   "execution_count": 17,
   "metadata": {},
   "outputs": [
    {
     "name": "stdout",
     "output_type": "stream",
     "text": [
      "7\n",
      "2\n",
      "輸入 7 , 2；則輸出 True\n"
     ]
    }
   ],
   "source": [
    "x = int(input())\n",
    "y = int(input())\n",
    "print(\"輸入\",x,\",\",y,end=\"\")\n",
    "if x+y==5 or abs(x-y)==5 or x==y:\n",
    "    print(\"；則輸出 True\")\n",
    "else:\n",
    "    print(\"；則輸出 False\")"
   ]
  },
  {
   "cell_type": "code",
   "execution_count": 15,
   "metadata": {},
   "outputs": [
    {
     "name": "stdout",
     "output_type": "stream",
     "text": [
      "-2\n",
      "-2\n",
      "輸入 -2 , -2；則輸出 Quadrant IV\n"
     ]
    }
   ],
   "source": [
    "x = int(input())\n",
    "y = int(input())\n",
    "print(\"輸入\",x,\",\",y,end=\"\")\n",
    "if x>0 and y>0:\n",
    "    print(\"；則輸出 Quadrant I\")\n",
    "else:\n",
    "    if x>0 and y<0:\n",
    "        print(\"；則輸出 Quadrant II\")\n",
    "    else:\n",
    "        if x<0 and y>0:\n",
    "            print(\"；則輸出 Quadrant III\")\n",
    "        else:\n",
    "            print(\"；則輸出 Quadrant IV\")"
   ]
  },
  {
   "cell_type": "code",
   "execution_count": 16,
   "metadata": {},
   "outputs": [
    {
     "name": "stdout",
     "output_type": "stream",
     "text": [
      "Sample Output:\n",
      "1505, 1505, 1540, 1575, 1610, 1645, 1680, 1715, 1750, 1785, 1820, 1855, 1890, 1925, 1960, 1995,\n",
      "2030, 2030, 2065, 2100, 2135, 2170, 2205, 2240, 2275, 2310, 2345, 2380, 2415, 2450, 2485, 2520,\n",
      "2555, 2555, 2590, 2625, 2660, 2695"
     ]
    }
   ],
   "source": [
    "b=0\n",
    "print(\"Sample Output:\")\n",
    "for i in range(1500,2700):\n",
    "    if i%7==0 and i%5==0:\n",
    "        if b==0:\n",
    "            print(i,end=\"\")\n",
    "        b+=1\n",
    "        print(\",\",i,end=\"\")\n",
    "        if b==15:\n",
    "            b=0\n",
    "            print(\",\")"
   ]
  },
  {
   "cell_type": "code",
   "execution_count": 18,
   "metadata": {},
   "outputs": [
    {
     "name": "stdout",
     "output_type": "stream",
     "text": [
      "sum= 64\n"
     ]
    }
   ],
   "source": [
    "myList = [ 10, 12, 20, 22]\n",
    "a=0\n",
    "for i in myList:\n",
    "    a=a+i\n",
    "print(\"sum=\",a)"
   ]
  },
  {
   "cell_type": "code",
   "execution_count": 19,
   "metadata": {},
   "outputs": [
    {
     "name": "stdout",
     "output_type": "stream",
     "text": [
      "multiplySum= 18\n"
     ]
    }
   ],
   "source": [
    "myList = [3, 1, 2, 3]\n",
    "a=1\n",
    "for i in myList:\n",
    "    a=a*i\n",
    "print(\"multiplySum=\",a)"
   ]
  },
  {
   "cell_type": "code",
   "execution_count": 20,
   "metadata": {},
   "outputs": [
    {
     "name": "stdout",
     "output_type": "stream",
     "text": [
      "largestNum= 22\n"
     ]
    }
   ],
   "source": [
    "myList = [8, -5, 22, -3]\n",
    "a=0\n",
    "for i in myList:\n",
    "    if a<i:\n",
    "        a=i\n",
    "print(\"largestNum=\",a)"
   ]
  },
  {
   "cell_type": "code",
   "execution_count": 21,
   "metadata": {},
   "outputs": [
    {
     "name": "stdout",
     "output_type": "stream",
     "text": [
      "smallestNum= -3\n"
     ]
    }
   ],
   "source": [
    "myList = [8, -3, 22, 12]\n",
    "a=0\n",
    "for i in myList:\n",
    "    if a>i:\n",
    "        a=i\n",
    "print(\"smallestNum=\",a)"
   ]
  },
  {
   "cell_type": "code",
   "execution_count": null,
   "metadata": {},
   "outputs": [],
   "source": []
  }
 ],
 "metadata": {
  "kernelspec": {
   "display_name": "Python 3",
   "language": "python",
   "name": "python3"
  },
  "language_info": {
   "codemirror_mode": {
    "name": "ipython",
    "version": 3
   },
   "file_extension": ".py",
   "mimetype": "text/x-python",
   "name": "python",
   "nbconvert_exporter": "python",
   "pygments_lexer": "ipython3",
   "version": "3.7.1"
  }
 },
 "nbformat": 4,
 "nbformat_minor": 2
}
